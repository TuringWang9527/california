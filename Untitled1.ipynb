{
 "cells": [
  {
   "cell_type": "code",
   "execution_count": 3,
   "id": "2b10beea-5e62-49cd-8f88-120bb6969954",
   "metadata": {},
   "outputs": [
    {
     "name": "stdout",
     "output_type": "stream",
     "text": [
      "模型均方误差: 4.668860070308578\n"
     ]
    },
    {
     "data": {
      "text/plain": [
       "['california_model.pkl']"
      ]
     },
     "execution_count": 3,
     "metadata": {},
     "output_type": "execute_result"
    }
   ],
   "source": [
    "# model.py\n",
    "\n",
    "import pandas as pd\n",
    "import numpy as np\n",
    "from sklearn.model_selection import train_test_split\n",
    "from sklearn.linear_model import LinearRegression\n",
    "from sklearn.metrics import mean_squared_error\n",
    "\n",
    "# 生成模拟数据\n",
    "np.random.seed(42)\n",
    "data_size = 1000\n",
    "\n",
    "X = pd.DataFrame({\n",
    "    '收入中位数': np.random.rand(data_size) * 10,\n",
    "    '房龄中位数': np.random.rand(data_size) * 50,\n",
    "    '每户平均房间数': np.random.rand(data_size) * 10,\n",
    "    '每户平均卧室数': np.random.rand(data_size) * 5,\n",
    "    '人口数量': np.random.rand(data_size) * 5000,\n",
    "    '每户平均居住人数': np.random.rand(data_size) * 10,\n",
    "    '纬度': np.random.rand(data_size) * 10 + 32,  # 32-42之间的随机值\n",
    "    '经度': np.random.rand(data_size) * 10 - 120  # -120到-110之间的随机值\n",
    "})\n",
    "y = X['收入中位数'] * 3 + X['房龄中位数'] * 0.5 + np.random.randn(data_size) * 2  # 模拟房价\n",
    "\n",
    "# 分割数据集\n",
    "X_train, X_test, y_train, y_test = train_test_split(X, y, test_size=0.3, random_state=42)\n",
    "\n",
    "# 训练模型\n",
    "model = LinearRegression()\n",
    "model.fit(X_train, y_train)\n",
    "\n",
    "# 评估模型\n",
    "y_pred = model.predict(X_test)\n",
    "mse = mean_squared_error(y_test, y_pred)\n",
    "print(f\"模型均方误差: {mse}\")\n",
    "\n",
    "# 保存模型\n",
    "import joblib\n",
    "joblib.dump(model, 'california_model.pkl')\n"
   ]
  },
  {
   "cell_type": "code",
   "execution_count": 4,
   "id": "1313ebd7-4da4-49ab-adb6-53adf2ed3826",
   "metadata": {},
   "outputs": [
    {
     "name": "stderr",
     "output_type": "stream",
     "text": [
      "2024-08-26 15:28:51.945 \n",
      "  \u001b[33m\u001b[1mWarning:\u001b[0m to view this Streamlit app on a browser, run it with the following\n",
      "  command:\n",
      "\n",
      "    streamlit run C:\\ProgramData\\anaconda3\\Lib\\site-packages\\ipykernel_launcher.py [ARGUMENTS]\n"
     ]
    }
   ],
   "source": [
    "# app.py\n",
    "\n",
    "import streamlit as st\n",
    "import pandas as pd\n",
    "import numpy as np\n",
    "import joblib\n",
    "\n",
    "# 加载模型\n",
    "model = joblib.load('california_model.pkl')\n",
    "\n",
    "# 应用标题\n",
    "st.title(\"模拟房价预测\")\n",
    "\n",
    "# 用户输入\n",
    "st.header(\"输入房屋特征:\")\n",
    "\n",
    "# 使用number_input来接收用户输入\n",
    "MedInc = st.number_input('收入中位数', 0.0, 10.0, 5.0)\n",
    "HouseAge = st.number_input('房龄中位数', 0.0, 50.0, 25.0)\n",
    "AveRooms = st.number_input('每户平均房间数', 0.0, 10.0, 5.0)\n",
    "AveBedrms = st.number_input('每户平均卧室数', 0.0, 5.0, 2.5)\n",
    "Population = st.number_input('人口数量', 0.0, 5000.0, 2500.0)\n",
    "AveOccup = st.number_input('每户平均居住人数', 0.0, 10.0, 5.0)\n",
    "Latitude = st.number_input('纬度', 32.0, 42.0, 37.0)\n",
    "Longitude = st.number_input('经度', -120.0, -110.0, -115.0)\n",
    "\n",
    "# 将输入数据转换为DataFrame\n",
    "input_data = np.array([[MedInc, HouseAge, AveRooms, AveBedrms, Population, AveOccup, Latitude, Longitude]])\n",
    "input_df = pd.DataFrame(input_data, columns=['收入中位数', '房龄中位数', '每户平均房间数', '每户平均卧室数', '人口数量', '每户平均居住人数', '纬度', '经度'])\n",
    "\n",
    "# 进行预测\n",
    "prediction = model.predict(input_df)\n",
    "\n",
    "# 显示结果\n",
    "st.subheader('预测的房价（单位：美元）:')\n",
    "st.write(f\"${prediction[0]*100000:.2f}\")\n"
   ]
  },
  {
   "cell_type": "code",
   "execution_count": null,
   "id": "28e956aa-a4ec-4adf-80c1-164aa9b866b5",
   "metadata": {},
   "outputs": [],
   "source": []
  }
 ],
 "metadata": {
  "kernelspec": {
   "display_name": "Python 3 (ipykernel)",
   "language": "python",
   "name": "python3"
  },
  "language_info": {
   "codemirror_mode": {
    "name": "ipython",
    "version": 3
   },
   "file_extension": ".py",
   "mimetype": "text/x-python",
   "name": "python",
   "nbconvert_exporter": "python",
   "pygments_lexer": "ipython3",
   "version": "3.11.7"
  }
 },
 "nbformat": 4,
 "nbformat_minor": 5
}
